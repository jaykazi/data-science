{
 "cells": [
  {
   "cell_type": "markdown",
   "id": "fa73709e-d1e3-4f1d-8a44-bc47e0f23b66",
   "metadata": {},
   "source": [
    "# Data Science Tools and Ecosystem"
   ]
  },
  {
   "cell_type": "markdown",
   "id": "9e1969c4-c36c-419b-b45f-ba3a0b580863",
   "metadata": {},
   "source": [
    "In this notebook, Data Science Tools and Ecosystem are summarized."
   ]
  },
  {
   "cell_type": "markdown",
   "id": "00e00703-0fa3-4d1b-83b1-2be3a0ca7880",
   "metadata": {},
   "source": [
    "Some of the popular languages that Data Scientists use are:\n",
    "1. Python\n",
    "2. Julia\n",
    "3. Java"
   ]
  },
  {
   "cell_type": "markdown",
   "id": "541f6506-4a83-4dec-96e4-98018228e2b9",
   "metadata": {},
   "source": [
    "Some of the commonly used libraries used by Data Scientists include:\n",
    "1. Scikit-Learn\n",
    "2. Matplotlib\n",
    "3. Tensorflow"
   ]
  },
  {
   "cell_type": "markdown",
   "id": "b1ba5526-860d-44dd-afed-f36e6217066f",
   "metadata": {},
   "source": [
    "| Data Science Tools |\n",
    "| ------------------ |\n",
    "| Jupyter Notebook |\n",
    "| VS Code |\n",
    "| R Studio |"
   ]
  },
  {
   "cell_type": "markdown",
   "id": "3e6d5448-1d8e-481c-a43e-c8de8ded96e5",
   "metadata": {},
   "source": [
    "### Below are a few examples of evaluating arithmetic expressions in Python.\n"
   ]
  },
  {
   "cell_type": "code",
   "execution_count": 21,
   "id": "b9b816cc-69e3-4bb8-a0bc-987f35feeaba",
   "metadata": {},
   "outputs": [
    {
     "data": {
      "text/plain": [
       "17"
      ]
     },
     "execution_count": 21,
     "metadata": {},
     "output_type": "execute_result"
    }
   ],
   "source": [
    "#This a simple arithmetic expression to mutiply then add integers\n",
    "(3*4)+5"
   ]
  },
  {
   "cell_type": "code",
   "execution_count": 35,
   "id": "ffd8c458-15a1-40a9-973f-0c247b83c505",
   "metadata": {},
   "outputs": [
    {
     "name": "stdout",
     "output_type": "stream",
     "text": [
      "3 Hours & 20 Minutes\n"
     ]
    }
   ],
   "source": [
    "import math\n",
    "#This will convert 200 minutes to hours by diving by 60\n",
    "print(math.floor(200/60),\"Hours &\",200%60,\"Minutes\")"
   ]
  },
  {
   "cell_type": "markdown",
   "id": "659273d1-a8eb-4a88-8e92-12708db2a8ae",
   "metadata": {},
   "source": [
    "**Objectives:**\n",
    "+ List popular languages for Data Science\n",
    "+ List commonly used libraries used by Data Scientists\n",
    "+ List a few Data Science tools"
   ]
  },
  {
   "cell_type": "markdown",
   "id": "bc637d4b-253b-418f-92dd-39e9c51bfd45",
   "metadata": {},
   "source": [
    "## Author\n",
    "Javidan"
   ]
  },
  {
   "cell_type": "code",
   "execution_count": null,
   "id": "0add6f16-514c-4928-a137-7b939f83d7d4",
   "metadata": {},
   "outputs": [],
   "source": []
  }
 ],
 "metadata": {
  "kernelspec": {
   "display_name": "Python 3 (ipykernel)",
   "language": "python",
   "name": "python3"
  },
  "language_info": {
   "codemirror_mode": {
    "name": "ipython",
    "version": 3
   },
   "file_extension": ".py",
   "mimetype": "text/x-python",
   "name": "python",
   "nbconvert_exporter": "python",
   "pygments_lexer": "ipython3",
   "version": "3.12.4"
  }
 },
 "nbformat": 4,
 "nbformat_minor": 5
}
